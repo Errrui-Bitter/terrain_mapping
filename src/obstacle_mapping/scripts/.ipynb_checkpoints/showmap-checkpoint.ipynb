{
 "cells": [
  {
   "cell_type": "code",
   "execution_count": 1,
   "id": "19125405-e332-4cd3-a943-ad21760c1e90",
   "metadata": {},
   "outputs": [
    {
     "name": "stdout",
     "output_type": "stream",
     "text": [
      "Jupyter environment detected. Enabling Open3D WebVisualizer.\n",
      "[Open3D INFO] WebRTC GUI backend enabled.\n",
      "[Open3D INFO] WebRTCWindowSystem: HTTP handshake server disabled.\n"
     ]
    }
   ],
   "source": [
    "import open3d as o3d\n",
    "import numpy as np"
   ]
  },
  {
   "cell_type": "code",
   "execution_count": 31,
   "id": "650cff24-9f82-4461-bc03-73a18d71c7cb",
   "metadata": {},
   "outputs": [],
   "source": [
    "pcd_file = \"/home/wxr/proj/traversability/obstacle_detection/ws_obdt/src/obstacle_mapping/test_map/terrain/wall00/wall00.pcd\"\n",
    "pcd_file_revise = \"/home/wxr/proj/traversability/obstacle_detection/ws_obdt/src/obstacle_mapping/test_map/terrain/wall00/wall00final.pcd\""
   ]
  },
  {
   "cell_type": "code",
   "execution_count": 32,
   "id": "1689e4e1-43a1-4a3e-a9e1-fc03537e0a16",
   "metadata": {},
   "outputs": [],
   "source": [
    "pcd = o3d.io.read_point_cloud(pcd_file)\n",
    "# 转换为 NumPy 数组\n",
    "points = np.asarray(pcd.points)"
   ]
  },
  {
   "cell_type": "code",
   "execution_count": 33,
   "id": "5b0d24ec-70ea-4b25-ab11-2f56454382ef",
   "metadata": {},
   "outputs": [],
   "source": [
    "min_point = np.array([-7, 3, 1.0])  # 最小 XYZ 坐标\n",
    "max_point = np.array([-5, 5, 3.0])  # 最大 XYZ 坐标\n",
    "min_point1 = np.array([-12, 4, 0.5])  # 最小 XYZ 坐标\n",
    "max_point1 = np.array([-9, 6, 1.2])  # 最大 XYZ 坐标"
   ]
  },
  {
   "cell_type": "code",
   "execution_count": 34,
   "id": "a8fea3e6-475f-4624-8b76-9fa6668ff906",
   "metadata": {},
   "outputs": [],
   "source": [
    "# 创建边界框\n",
    "bbox = o3d.geometry.AxisAlignedBoundingBox(min_point, max_point)\n",
    "bbox1 = o3d.geometry.AxisAlignedBoundingBox(min_point1, max_point1)"
   ]
  },
  {
   "cell_type": "code",
   "execution_count": 35,
   "id": "cbb278eb-4f25-4c1a-a559-7f8f3a8fa6e1",
   "metadata": {},
   "outputs": [],
   "source": [
    "# 可视化点云和边界框\n",
    "bbox1.color = (1, 0, 0) \n",
    "o3d.visualization.draw_geometries([pcd, bbox1])"
   ]
  },
  {
   "cell_type": "code",
   "execution_count": 36,
   "id": "412ba328-b44e-4670-ab0f-2f417394ec02",
   "metadata": {},
   "outputs": [],
   "source": [
    "# 找到在边界框内的点\n",
    "mask1 = np.all((points >= min_point) & (points <= max_point), axis=1)\n",
    "mask2 = np.all((points >= min_point1) & (points <= max_point1), axis=1)\n",
    "combined_mask = ~ (mask1 | mask2)\n",
    "\n",
    "# 修改 Z 坐标\n",
    "# points[mask, 2] -= 0.6"
   ]
  },
  {
   "cell_type": "code",
   "execution_count": null,
   "id": "d20c27a0-b315-4ab4-bdf1-b28ae25f5d7d",
   "metadata": {},
   "outputs": [],
   "source": [
    "# 筛选点\n",
    "filtered_points = points[combined_mask]\n",
    "\n",
    "# filtered_points[:, 1] -= 0.6\n",
    "\n",
    "# # 将修改后的点合并到原来的点云中\n",
    "# new_points = np.concatenate((points, filtered_points), axis=0)\n",
    "\n",
    "# filtered_points[:, 1] -= 0.6\n",
    "\n",
    "# new_points = np.concatenate((new_points, filtered_points), axis=0)\n",
    "# 更新点云\n",
    "pcd.points = o3d.utility.Vector3dVector(filtered_points)\n",
    "\n",
    "# 可视化结果\n",
    "o3d.visualization.draw_geometries([pcd])"
   ]
  },
  {
   "cell_type": "code",
   "execution_count": 9,
   "id": "9b63bc0d-98bd-4bb4-aa42-d735e744c539",
   "metadata": {},
   "outputs": [
    {
     "data": {
      "text/plain": [
       "True"
      ]
     },
     "execution_count": 9,
     "metadata": {},
     "output_type": "execute_result"
    }
   ],
   "source": [
    "o3d.io.write_point_cloud(pcd_file_revise, pcd)"
   ]
  },
  {
   "cell_type": "code",
   "execution_count": null,
   "id": "2cf1579f-bd48-4930-acb5-8d0488adc6e6",
   "metadata": {},
   "outputs": [],
   "source": []
  }
 ],
 "metadata": {
  "kernelspec": {
   "display_name": "gp-nav",
   "language": "python",
   "name": "gp-nav"
  },
  "language_info": {
   "codemirror_mode": {
    "name": "ipython",
    "version": 3
   },
   "file_extension": ".py",
   "mimetype": "text/x-python",
   "name": "python",
   "nbconvert_exporter": "python",
   "pygments_lexer": "ipython3",
   "version": "3.8.20"
  }
 },
 "nbformat": 4,
 "nbformat_minor": 5
}
