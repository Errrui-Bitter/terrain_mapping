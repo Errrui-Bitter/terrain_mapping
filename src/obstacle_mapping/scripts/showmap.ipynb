{
 "cells": [
  {
   "cell_type": "code",
   "execution_count": 1,
   "id": "19125405-e332-4cd3-a943-ad21760c1e90",
   "metadata": {},
   "outputs": [
    {
     "name": "stdout",
     "output_type": "stream",
     "text": [
      "Jupyter environment detected. Enabling Open3D WebVisualizer.\n",
      "[Open3D INFO] WebRTC GUI backend enabled.\n",
      "[Open3D INFO] WebRTCWindowSystem: HTTP handshake server disabled.\n"
     ]
    }
   ],
   "source": [
    "import open3d as o3d\n",
    "import numpy as np"
   ]
  },
  {
   "cell_type": "code",
   "execution_count": 2,
   "id": "650cff24-9f82-4461-bc03-73a18d71c7cb",
   "metadata": {},
   "outputs": [],
   "source": [
    "pcd_file = \"/home/wxr/ivrc/6t/slam_ws/maps/0510-2-trench01_map1.pcd\"\n",
    "pcd_file_revise = \"/home/wxr/ivrc/6t/slam_ws/maps/0510-2-trench01_map1_revised.pcd\""
   ]
  },
  {
   "cell_type": "code",
   "execution_count": 10,
   "id": "1689e4e1-43a1-4a3e-a9e1-fc03537e0a16",
   "metadata": {},
   "outputs": [],
   "source": [
    "pcd = o3d.io.read_point_cloud(pcd_file)"
   ]
  },
  {
   "cell_type": "code",
   "execution_count": 4,
   "id": "5b0d24ec-70ea-4b25-ab11-2f56454382ef",
   "metadata": {},
   "outputs": [],
   "source": [
    "min_point = np.array([-2.6, 7.15, -3.0])  # 最小 XYZ 坐标\n",
    "max_point = np.array([2.1, 7.65, 2.0])  # 最大 XYZ 坐标"
   ]
  },
  {
   "cell_type": "code",
   "execution_count": 5,
   "id": "a8fea3e6-475f-4624-8b76-9fa6668ff906",
   "metadata": {},
   "outputs": [],
   "source": [
    "# 创建边界框\n",
    "bbox = o3d.geometry.AxisAlignedBoundingBox(min_point, max_point)"
   ]
  },
  {
   "cell_type": "code",
   "execution_count": 6,
   "id": "cbb278eb-4f25-4c1a-a559-7f8f3a8fa6e1",
   "metadata": {},
   "outputs": [],
   "source": [
    "# 可视化点云和边界框\n",
    "bbox.color = (1, 0, 0) \n",
    "o3d.visualization.draw_geometries([pcd, bbox])\n"
   ]
  },
  {
   "cell_type": "code",
   "execution_count": 11,
   "id": "38cedaa2-c0c4-460a-80fe-a542d4932fb6",
   "metadata": {},
   "outputs": [],
   "source": [
    "# 转换为 NumPy 数组\n",
    "points = np.asarray(pcd.points)\n",
    "\n",
    "# 找到在边界框内的点\n",
    "mask = np.all((points >= min_point) & (points <= max_point), axis=1)\n",
    "\n",
    "# 修改 Z 坐标\n",
    "points[mask, 2] -= 0.6"
   ]
  },
  {
   "cell_type": "code",
   "execution_count": 12,
   "id": "d20c27a0-b315-4ab4-bdf1-b28ae25f5d7d",
   "metadata": {},
   "outputs": [],
   "source": [
    "# 更新点云数据\n",
    "pcd.points = o3d.utility.Vector3dVector(points)\n",
    "\n",
    "# 创建边界框\n",
    "bbox = o3d.geometry.AxisAlignedBoundingBox(min_point, max_point)\n",
    "bbox.color = (1, 0, 0)  # 设置边界框颜色为红色\n",
    "\n",
    "# 可视化点云和边界框\n",
    "o3d.visualization.draw_geometries([pcd, bbox], window_name=\"Point Cloud with Bounding Box\", width=800, height=600)"
   ]
  },
  {
   "cell_type": "code",
   "execution_count": 13,
   "id": "9b63bc0d-98bd-4bb4-aa42-d735e744c539",
   "metadata": {},
   "outputs": [
    {
     "data": {
      "text/plain": [
       "True"
      ]
     },
     "execution_count": 13,
     "metadata": {},
     "output_type": "execute_result"
    }
   ],
   "source": [
    "o3d.io.write_point_cloud(pcd_file_revise, pcd)"
   ]
  },
  {
   "cell_type": "code",
   "execution_count": null,
   "id": "2cf1579f-bd48-4930-acb5-8d0488adc6e6",
   "metadata": {},
   "outputs": [],
   "source": []
  }
 ],
 "metadata": {
  "kernelspec": {
   "display_name": "gp-nav",
   "language": "python",
   "name": "gp-nav"
  },
  "language_info": {
   "codemirror_mode": {
    "name": "ipython",
    "version": 3
   },
   "file_extension": ".py",
   "mimetype": "text/x-python",
   "name": "python",
   "nbconvert_exporter": "python",
   "pygments_lexer": "ipython3",
   "version": "3.8.20"
  }
 },
 "nbformat": 4,
 "nbformat_minor": 5
}
